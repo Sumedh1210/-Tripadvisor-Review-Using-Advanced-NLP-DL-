{
 "cells": [
  {
   "cell_type": "markdown",
   "id": "f6a40cbe",
   "metadata": {},
   "source": [
    "# About this dataset\n",
    "#Hotels play a crucial role in traveling and with the increased access to information new pathways of selecting the best ones emerged.\n",
    "\n",
    "#With this dataset, consisting reviews crawled from Tripadvisor,we can explore what makes a great hotel and maybe even use this model in your travels!"
   ]
  },
  {
   "cell_type": "markdown",
   "id": "3c2b3099",
   "metadata": {},
   "source": [
    "Dataset is downloaded from kaggle---> link:-https://www.kaggle.com/datasets/arnabchaki/tripadvisor-reviews-2023/code"
   ]
  },
  {
   "cell_type": "markdown",
   "id": "718f5e29",
   "metadata": {},
   "source": [
    "# Abstract\n",
    "Explore Hotel aspects and Predict the rating of each review.\n",
    "Explore key aspects that make hotels good or bad"
   ]
  },
  {
   "cell_type": "markdown",
   "id": "32bac334",
   "metadata": {},
   "source": [
    "# Import the basic libraries"
   ]
  },
  {
   "cell_type": "code",
   "execution_count": 17,
   "id": "47b4d4eb",
   "metadata": {},
   "outputs": [],
   "source": [
    "import warnings\n",
    "warnings.filterwarnings(\"ignore\")\n",
    "import numpy as np\n",
    "import pandas as pd\n",
    "from PIL import Image\n",
    "from wordcloud import WordCloud, STOPWORDS, ImageColorGenerator\n",
    "import matplotlib.pyplot as plt\n",
    "import seaborn as sns\n",
    "import collections\n",
    "from nltk.tokenize import word_tokenize\n",
    "%matplotlib inline"
   ]
  },
  {
   "cell_type": "code",
   "execution_count": 18,
   "id": "5ce63dbd",
   "metadata": {},
   "outputs": [
    {
     "data": {
      "text/html": [
       "<div>\n",
       "<style scoped>\n",
       "    .dataframe tbody tr th:only-of-type {\n",
       "        vertical-align: middle;\n",
       "    }\n",
       "\n",
       "    .dataframe tbody tr th {\n",
       "        vertical-align: top;\n",
       "    }\n",
       "\n",
       "    .dataframe thead th {\n",
       "        text-align: right;\n",
       "    }\n",
       "</style>\n",
       "<table border=\"1\" class=\"dataframe\">\n",
       "  <thead>\n",
       "    <tr style=\"text-align: right;\">\n",
       "      <th></th>\n",
       "      <th>rating_review</th>\n",
       "      <th>review_full</th>\n",
       "    </tr>\n",
       "  </thead>\n",
       "  <tbody>\n",
       "    <tr>\n",
       "      <th>0</th>\n",
       "      <td>5</td>\n",
       "      <td>Totally in love with the Auro of the place, re...</td>\n",
       "    </tr>\n",
       "    <tr>\n",
       "      <th>1</th>\n",
       "      <td>5</td>\n",
       "      <td>I went this bar 8 days regularly with my husba...</td>\n",
       "    </tr>\n",
       "    <tr>\n",
       "      <th>2</th>\n",
       "      <td>5</td>\n",
       "      <td>We were few friends and was a birthday celebra...</td>\n",
       "    </tr>\n",
       "    <tr>\n",
       "      <th>3</th>\n",
       "      <td>5</td>\n",
       "      <td>Fatjar Cafe and Market is the perfect place fo...</td>\n",
       "    </tr>\n",
       "    <tr>\n",
       "      <th>4</th>\n",
       "      <td>5</td>\n",
       "      <td>Hey Guys, if you are craving for pizza and sea...</td>\n",
       "    </tr>\n",
       "  </tbody>\n",
       "</table>\n",
       "</div>"
      ],
      "text/plain": [
       "   rating_review                                        review_full\n",
       "0              5  Totally in love with the Auro of the place, re...\n",
       "1              5  I went this bar 8 days regularly with my husba...\n",
       "2              5  We were few friends and was a birthday celebra...\n",
       "3              5  Fatjar Cafe and Market is the perfect place fo...\n",
       "4              5  Hey Guys, if you are craving for pizza and sea..."
      ]
     },
     "execution_count": 18,
     "metadata": {},
     "output_type": "execute_result"
    }
   ],
   "source": [
    "#Reading the csv file into the dataframe\n",
    "trip= pd.read_csv(r\"D:\\SUMEDH\\Project Datasets\\capstone project\\New_Delhi_reviews.csv\")\n",
    "trip.head(5) #Let's look into the records"
   ]
  },
  {
   "cell_type": "code",
   "execution_count": 19,
   "id": "15919a02",
   "metadata": {},
   "outputs": [
    {
     "name": "stdout",
     "output_type": "stream",
     "text": [
      "<class 'pandas.core.frame.DataFrame'>\n",
      "RangeIndex: 147581 entries, 0 to 147580\n",
      "Data columns (total 2 columns):\n",
      " #   Column         Non-Null Count   Dtype \n",
      "---  ------         --------------   ----- \n",
      " 0   rating_review  147581 non-null  int64 \n",
      " 1   review_full    147579 non-null  object\n",
      "dtypes: int64(1), object(1)\n",
      "memory usage: 2.3+ MB\n"
     ]
    }
   ],
   "source": [
    "#Checking the information of dataset\n",
    "trip.info()"
   ]
  },
  {
   "cell_type": "markdown",
   "id": "a492ca62",
   "metadata": {},
   "source": [
    "# Checking Missing Value"
   ]
  },
  {
   "cell_type": "code",
   "execution_count": 20,
   "id": "b42b75f5",
   "metadata": {},
   "outputs": [
    {
     "data": {
      "text/plain": [
       "rating_review    0\n",
       "review_full      2\n",
       "dtype: int64"
      ]
     },
     "execution_count": 20,
     "metadata": {},
     "output_type": "execute_result"
    }
   ],
   "source": [
    "trip.isnull().sum()"
   ]
  },
  {
   "cell_type": "code",
   "execution_count": 21,
   "id": "36c07048",
   "metadata": {},
   "outputs": [],
   "source": [
    "trip = trip.dropna() # "
   ]
  },
  {
   "cell_type": "code",
   "execution_count": 22,
   "id": "8c3c2361",
   "metadata": {},
   "outputs": [
    {
     "data": {
      "text/plain": [
       "rating_review    0\n",
       "review_full      0\n",
       "dtype: int64"
      ]
     },
     "execution_count": 22,
     "metadata": {},
     "output_type": "execute_result"
    }
   ],
   "source": [
    "trip.isnull().sum()"
   ]
  },
  {
   "cell_type": "code",
   "execution_count": 23,
   "id": "ba803037",
   "metadata": {},
   "outputs": [
    {
     "data": {
      "text/plain": [
       "(147579, 2)"
      ]
     },
     "execution_count": 23,
     "metadata": {},
     "output_type": "execute_result"
    }
   ],
   "source": [
    "#checking number of rows and columns \n",
    "trip.shape"
   ]
  },
  {
   "cell_type": "code",
   "execution_count": 24,
   "id": "4f2dc65a",
   "metadata": {},
   "outputs": [
    {
     "data": {
      "text/plain": [
       "5    72389\n",
       "4    50248\n",
       "3    15935\n",
       "2     4552\n",
       "1     4455\n",
       "Name: rating_review, dtype: int64"
      ]
     },
     "execution_count": 24,
     "metadata": {},
     "output_type": "execute_result"
    }
   ],
   "source": [
    "trip.rating_review.value_counts()"
   ]
  },
  {
   "cell_type": "code",
   "execution_count": 25,
   "id": "71afb302",
   "metadata": {},
   "outputs": [
    {
     "data": {
      "image/png": "[encoded data removed]",
      "text/plain": [
       "<Figure size 640x480 with 1 Axes>"
      ]
     },
     "metadata": {},
     "output_type": "display_data"
    }
   ],
   "source": [
    "## Data Visualization of Target Variables\n",
    "sns.countplot(x = 'rating_review', data = trip)\n",
    "plt.xlabel('rating_review')\n",
    "\n",
    "plt.show()"
   ]
  },
  {
   "cell_type": "code",
   "execution_count": 26,
   "id": "8206cf5a",
   "metadata": {},
   "outputs": [
    {
     "data": {
      "text/plain": [
       "5    72389\n",
       "4    50248\n",
       "3    15935\n",
       "2     4552\n",
       "1     4455\n",
       "Name: rating_review, dtype: int64"
      ]
     },
     "execution_count": 26,
     "metadata": {},
     "output_type": "execute_result"
    }
   ],
   "source": [
    "trip.rating_review.value_counts()"
   ]
  },
  {
   "cell_type": "code",
   "execution_count": 27,
   "id": "b260e3eb",
   "metadata": {},
   "outputs": [],
   "source": [
    "# here we converted 1 to 3 as negative rating as 0 and 4 & 5 as a postive rating as 1\n",
    "trip.rating_review.replace({1:0,2:0,3:0,4:1,5:1}, inplace = True) "
   ]
  },
  {
   "cell_type": "code",
   "execution_count": 28,
   "id": "254e8375",
   "metadata": {},
   "outputs": [
    {
     "data": {
      "text/plain": [
       "1    122637\n",
       "0     24942\n",
       "Name: rating_review, dtype: int64"
      ]
     },
     "execution_count": 28,
     "metadata": {},
     "output_type": "execute_result"
    }
   ],
   "source": [
    "trip.rating_review.value_counts()"
   ]
  },
  {
   "cell_type": "code",
   "execution_count": 29,
   "id": "357b2dd2",
   "metadata": {},
   "outputs": [
    {
     "data": {
      "image/png": "[encoded data removed]",
      "text/plain": [
       "<Figure size 640x480 with 1 Axes>"
      ]
     },
     "metadata": {},
     "output_type": "display_data"
    }
   ],
   "source": [
    "trip.rating_review.value_counts().plot.pie(autopct=\"%.1f%%\");"
   ]
  },
  {
   "cell_type": "code",
   "execution_count": 30,
   "id": "1cf0017d",
   "metadata": {},
   "outputs": [
    {
     "data": {
      "image/png": "[encoded data removed]",
      "text/plain": [
       "<Figure size 640x480 with 1 Axes>"
      ]
     },
     "metadata": {},
     "output_type": "display_data"
    }
   ],
   "source": [
    "## Data Visualization of Target Variables\n",
    "sns.countplot(x = 'rating_review', data = trip)\n",
    "plt.xlabel('rating_review')\n",
    "\n",
    "plt.show()"
   ]
  },
  {
   "cell_type": "markdown",
   "id": "c3638bf2",
   "metadata": {},
   "source": [
    "# Pre-Processing"
   ]
  },
  {
   "cell_type": "code",
   "execution_count": 31,
   "id": "39b535f2",
   "metadata": {},
   "outputs": [],
   "source": [
    "trip.review_full = trip.review_full.str.lower() # we lowercase to reduce the size of vocabulary "
   ]
  },
  {
   "cell_type": "code",
   "execution_count": 32,
   "id": "e18de838",
   "metadata": {},
   "outputs": [
    {
     "data": {
      "text/plain": [
       "0         totally in love with the auro of the place, re...\n",
       "1         i went this bar 8 days regularly with my husba...\n",
       "2         we were few friends and was a birthday celebra...\n",
       "3         fatjar cafe and market is the perfect place fo...\n",
       "4         hey guys, if you are craving for pizza and sea...\n",
       "                                ...                        \n",
       "147576    near by airport very calm and cool environment...\n",
       "147577    my favourite place to stay. great service. ash...\n",
       "147578    good food with nice decoration, drinks list al...\n",
       "147579    near to airport .it is fine property.  staff i...\n",
       "147580    amazing food ..  excellent ambience ..  great ...\n",
       "Name: review_full, Length: 147579, dtype: object"
      ]
     },
     "execution_count": 32,
     "metadata": {},
     "output_type": "execute_result"
    }
   ],
   "source": [
    "trip.review_full"
   ]
  },
  {
   "cell_type": "code",
   "execution_count": 33,
   "id": "b237fd51",
   "metadata": {},
   "outputs": [
    {
     "data": {
      "text/html": [
       "<div>\n",
       "<style scoped>\n",
       "    .dataframe tbody tr th:only-of-type {\n",
       "        vertical-align: middle;\n",
       "    }\n",
       "\n",
       "    .dataframe tbody tr th {\n",
       "        vertical-align: top;\n",
       "    }\n",
       "\n",
       "    .dataframe thead th {\n",
       "        text-align: right;\n",
       "    }\n",
       "</style>\n",
       "<table border=\"1\" class=\"dataframe\">\n",
       "  <thead>\n",
       "    <tr style=\"text-align: right;\">\n",
       "      <th></th>\n",
       "      <th>rating_review</th>\n",
       "      <th>review_full</th>\n",
       "    </tr>\n",
       "  </thead>\n",
       "  <tbody>\n",
       "    <tr>\n",
       "      <th>0</th>\n",
       "      <td>1</td>\n",
       "      <td>totally in love with the auro of the place, re...</td>\n",
       "    </tr>\n",
       "    <tr>\n",
       "      <th>1</th>\n",
       "      <td>1</td>\n",
       "      <td>i went this bar 8 days regularly with my husba...</td>\n",
       "    </tr>\n",
       "    <tr>\n",
       "      <th>2</th>\n",
       "      <td>1</td>\n",
       "      <td>we were few friends and was a birthday celebra...</td>\n",
       "    </tr>\n",
       "    <tr>\n",
       "      <th>3</th>\n",
       "      <td>1</td>\n",
       "      <td>fatjar cafe and market is the perfect place fo...</td>\n",
       "    </tr>\n",
       "    <tr>\n",
       "      <th>4</th>\n",
       "      <td>1</td>\n",
       "      <td>hey guys, if you are craving for pizza and sea...</td>\n",
       "    </tr>\n",
       "  </tbody>\n",
       "</table>\n",
       "</div>"
      ],
      "text/plain": [
       "   rating_review                                        review_full\n",
       "0              1  totally in love with the auro of the place, re...\n",
       "1              1  i went this bar 8 days regularly with my husba...\n",
       "2              1  we were few friends and was a birthday celebra...\n",
       "3              1  fatjar cafe and market is the perfect place fo...\n",
       "4              1  hey guys, if you are craving for pizza and sea..."
      ]
     },
     "execution_count": 33,
     "metadata": {},
     "output_type": "execute_result"
    }
   ],
   "source": [
    "trip.head()"
   ]
  },
  {
   "cell_type": "code",
   "execution_count": 34,
   "id": "de0b66c0",
   "metadata": {},
   "outputs": [],
   "source": [
    "#Need to remove the stop words from the sentences since they do not hold any essential meaning. \n",
    "#Stop words are words like the, an, was, is, etc. This will reduce the number of features. \n",
    "#We will import the stopwords from nltk library -"
   ]
  },
  {
   "cell_type": "code",
   "execution_count": 35,
   "id": "c9ed5a53",
   "metadata": {},
   "outputs": [
    {
     "name": "stderr",
     "output_type": "stream",
     "text": [
      "[nltk_data] Downloading package punkt to\n",
      "[nltk_data]     C:\\Users\\barsi\\AppData\\Roaming\\nltk_data...\n",
      "[nltk_data]   Package punkt is already up-to-date!\n",
      "[nltk_data] Downloading package stopwords to\n",
      "[nltk_data]     C:\\Users\\barsi\\AppData\\Roaming\\nltk_data...\n",
      "[nltk_data]   Package stopwords is already up-to-date!\n",
      "[nltk_data] Downloading package wordnet to\n",
      "[nltk_data]     C:\\Users\\barsi\\AppData\\Roaming\\nltk_data...\n",
      "[nltk_data]   Package wordnet is already up-to-date!\n",
      "[nltk_data] Downloading package omw-1.4 to\n",
      "[nltk_data]     C:\\Users\\barsi\\AppData\\Roaming\\nltk_data...\n",
      "[nltk_data]   Package omw-1.4 is already up-to-date!\n"
     ]
    },
    {
     "data": {
      "text/plain": [
       "True"
      ]
     },
     "execution_count": 35,
     "metadata": {},
     "output_type": "execute_result"
    }
   ],
   "source": [
    "import string\n",
    "import re\n",
    "import nltk\n",
    "from nltk.corpus import stopwords\n",
    "from nltk.stem import WordNetLemmatizer, PorterStemmer #Stemming is the process of reducing the words to their root form.\n",
    "# Download NLTK resources if not already downloaded\n",
    "nltk.download('punkt')\n",
    "nltk.download('stopwords')\n",
    "nltk.download('wordnet')\n",
    "stopword_list = set(stopwords.words('english'))\n",
    "nltk.download('omw-1.4')"
   ]
  },
  {
   "cell_type": "code",
   "execution_count": 36,
   "id": "1343c06b",
   "metadata": {},
   "outputs": [
    {
     "data": {
      "text/plain": [
       "'!\"#$%&\\'()*+,-./:;<=>?@[\\\\]^_`{|}~'"
      ]
     },
     "execution_count": 36,
     "metadata": {},
     "output_type": "execute_result"
    }
   ],
   "source": [
    "string.punctuation"
   ]
  },
  {
   "cell_type": "code",
   "execution_count": 37,
   "id": "5ae801f4",
   "metadata": {},
   "outputs": [],
   "source": [
    "stopword_list=list(stopwords.words('english'))"
   ]
  },
  {
   "cell_type": "markdown",
   "id": "c1764bf1",
   "metadata": {},
   "source": [
    "## Removing url, Punctuation, Remove Number,Stop Words, Strip extra whitespace ,Applying lemmatizer,stemming"
   ]
  },
  {
   "cell_type": "code",
   "execution_count": 38,
   "id": "27470fca",
   "metadata": {},
   "outputs": [],
   "source": [
    "def text_process(mess):\n",
    "    \"\"\"\n",
    "    1. remove the punctuation\n",
    "    2. remove the URLs\n",
    "    3. remove the stopwords\n",
    "    4. lemmatize the words\n",
    "    5. stem the words\n",
    "    6. return the list of clean text words\n",
    "    \"\"\"\n",
    "    # Remove punctuation\n",
    "    nopunc = [char for char in mess if char not in string.punctuation]\n",
    "    nopunc = ''.join(nopunc)\n",
    "    \n",
    "    # Remove URLs\n",
    "    nopunc = re.sub(r'((www.[^s]+)|(https?://[^s]+))', ' ', nopunc)\n",
    "    \n",
    "    # Remove numbers\n",
    "    nopunc = re.sub(r'\\d+', '', nopunc)\n",
    "    \n",
    "    # Tokenize words\n",
    "    word_tokens = nltk.tokenize.WhitespaceTokenizer().tokenize(nopunc)\n",
    "    \n",
    "    # Remove stopwords, lemmatize, and stem\n",
    "    lemmatizer = WordNetLemmatizer()\n",
    "    stemmer = PorterStemmer()\n",
    "    clean_words = [stemmer.stem(lemmatizer.lemmatize(word.lower())) for word in word_tokens if word.lower() not in stopword_list]\n",
    "    \n",
    "    return clean_words"
   ]
  },
  {
   "cell_type": "code",
   "execution_count": null,
   "id": "a8ecdee2",
   "metadata": {},
   "outputs": [],
   "source": [
    "trip[\"clean_review\"]= trip.review_full.apply(text_process)"
   ]
  },
  {
   "cell_type": "code",
   "execution_count": null,
   "id": "ca4bae6f",
   "metadata": {},
   "outputs": [],
   "source": [
    "trip"
   ]
  },
  {
   "cell_type": "markdown",
   "id": "5efe6eca",
   "metadata": {},
   "source": [
    "# Term Document Matrix"
   ]
  },
  {
   "cell_type": "code",
   "execution_count": null,
   "id": "19f58e1c",
   "metadata": {},
   "outputs": [],
   "source": [
    "#Now we need to vectorize it. We will do it in the same way, that is using countvectorizer -\n",
    "from sklearn.feature_extraction.text import CountVectorizer "
   ]
  },
  {
   "cell_type": "code",
   "execution_count": null,
   "id": "53d389cb",
   "metadata": {},
   "outputs": [],
   "source": [
    "mess_transformer=CountVectorizer(analyzer=text_process).fit(trip.review_full)"
   ]
  },
  {
   "cell_type": "code",
   "execution_count": null,
   "id": "99fc7b0d",
   "metadata": {},
   "outputs": [],
   "source": [
    "tdm = mess_transformer.transform(trip.review_full)"
   ]
  },
  {
   "cell_type": "code",
   "execution_count": null,
   "id": "6069d4cd",
   "metadata": {},
   "outputs": [],
   "source": [
    "tdm.shape"
   ]
  },
  {
   "cell_type": "code",
   "execution_count": null,
   "id": "e7bbbae3",
   "metadata": {},
   "outputs": [],
   "source": [
    "type(tdm)"
   ]
  },
  {
   "cell_type": "markdown",
   "id": "6107a1b9",
   "metadata": {},
   "source": [
    "# Word Cloud "
   ]
  },
  {
   "cell_type": "code",
   "execution_count": null,
   "id": "6a0851e8",
   "metadata": {},
   "outputs": [],
   "source": [
    "df = trip[\"review_full\"]\n",
    "plt.figure(figsize = (20,20))\n",
    "wc = WordCloud(max_words = 500 , width = 1600 , height = 800,\n",
    "               collocations=False).generate(\" \".join(df))\n",
    "plt.imshow(wc)"
   ]
  },
  {
   "cell_type": "code",
   "execution_count": null,
   "id": "2a23c0b3",
   "metadata": {},
   "outputs": [],
   "source": [
    "texts_postive_sentiments = trip[trip['rating_review'] == 1]['review_full']\n",
    "plt.figure(figsize = (20,20))\n",
    "wc = WordCloud(max_words = 500 , width = 1600 , height = 800,\n",
    "               collocations=False).generate(\" \".join(texts_postive_sentiments))\n",
    "plt.imshow(wc)"
   ]
  },
  {
   "cell_type": "code",
   "execution_count": null,
   "id": "ff6a347f",
   "metadata": {},
   "outputs": [],
   "source": [
    "texts_negative_sentiments = trip[trip['rating_review'] == 0]['review_full']\n",
    "plt.figure(figsize = (20,20))\n",
    "wc = WordCloud(max_words = 500 , width = 1600 , height = 800,\n",
    "               collocations=False).generate(\" \".join(texts_negative_sentiments))\n",
    "plt.imshow(wc)"
   ]
  },
  {
   "cell_type": "raw",
   "id": "bc3baf78",
   "metadata": {},
   "source": [
    "# Insights:\n",
    "#In all charts with some of the most used keywords were Food, Place, Service, Time,even, Order among others, that is, many people complain, this can be a detail to improve.\n",
    "#One of the most used words rated is Indian,,Pizza, chicken haha.\n",
    "#The highe ratings have the most used words like Best, Love and Good, which is an interesting point that means that the people who take a highe ratings (which is most people) really liked it a lot and will probably come back."
   ]
  },
  {
   "cell_type": "markdown",
   "id": "56c0714e",
   "metadata": {},
   "source": [
    "# Sampling"
   ]
  },
  {
   "cell_type": "code",
   "execution_count": null,
   "id": "b68a1f50",
   "metadata": {},
   "outputs": [],
   "source": [
    "from sklearn.model_selection import train_test_split"
   ]
  },
  {
   "cell_type": "code",
   "execution_count": null,
   "id": "1184e243",
   "metadata": {},
   "outputs": [],
   "source": [
    "x_train,x_test,y_train,y_test=train_test_split(tdm,trip.rating_review,test_size=.2) # random sampling "
   ]
  },
  {
   "cell_type": "code",
   "execution_count": null,
   "id": "d7655e23",
   "metadata": {},
   "outputs": [],
   "source": [
    "x_train.shape"
   ]
  },
  {
   "cell_type": "code",
   "execution_count": null,
   "id": "de3dbab9",
   "metadata": {},
   "outputs": [],
   "source": [
    "y_train.shape"
   ]
  },
  {
   "cell_type": "markdown",
   "id": "2f1293c8",
   "metadata": {},
   "source": [
    " # Model Building"
   ]
  },
  {
   "cell_type": "markdown",
   "id": "641c671a",
   "metadata": {},
   "source": [
    "# MultinomialNB "
   ]
  },
  {
   "cell_type": "code",
   "execution_count": null,
   "id": "830fcf10",
   "metadata": {},
   "outputs": [],
   "source": [
    "from sklearn.naive_bayes import MultinomialNB\n",
    "from sklearn.metrics import confusion_matrix,accuracy_score,recall_score,precision_score,classification_report\n",
    "nb=MultinomialNB()\n",
    "nb.fit(x_train,y_train)\n",
    "pred_nb=nb.predict(x_test)\n",
    "tab_nb=confusion_matrix(y_test,pred_nb)\n",
    "tab_nb"
   ]
  },
  {
   "cell_type": "code",
   "execution_count": null,
   "id": "ae9f3c68",
   "metadata": {},
   "outputs": [],
   "source": [
    "print(classification_report(y_test, pred_nb))"
   ]
  },
  {
   "cell_type": "code",
   "execution_count": null,
   "id": "da3dbaa5",
   "metadata": {},
   "outputs": [],
   "source": [
    "accuracy_score(y_test,pred_nb)*100"
   ]
  },
  {
   "cell_type": "code",
   "execution_count": null,
   "id": "c4ec93f7",
   "metadata": {},
   "outputs": [],
   "source": [
    "# Sentiment Analysis\n",
    "sentiment = ['Positive' if pred == 1 else 'Negative' for pred in pred_nb]\n",
    "sns.countplot(x=sentiment)"
   ]
  },
  {
   "cell_type": "markdown",
   "id": "fb0a2925",
   "metadata": {},
   "source": [
    "# BernoulliNB "
   ]
  },
  {
   "cell_type": "code",
   "execution_count": null,
   "id": "64080486",
   "metadata": {},
   "outputs": [],
   "source": [
    "from sklearn.naive_bayes import BernoulliNB\n",
    "bnb= BernoulliNB()\n",
    "bnb.fit(x_train, y_train)\n",
    "pred_bnb=bnb.predict(x_test)\n",
    "tab=confusion_matrix(y_test,pred_bnb)\n",
    "tab"
   ]
  },
  {
   "cell_type": "code",
   "execution_count": null,
   "id": "7d5415a7",
   "metadata": {},
   "outputs": [],
   "source": [
    "print(classification_report(y_test, pred_bnb))"
   ]
  },
  {
   "cell_type": "code",
   "execution_count": null,
   "id": "4f05cc4c",
   "metadata": {},
   "outputs": [],
   "source": [
    "accuracy_score(y_test,pred_bnb)*100"
   ]
  },
  {
   "cell_type": "markdown",
   "id": "b310159d",
   "metadata": {},
   "source": [
    "# LogisticRegression"
   ]
  },
  {
   "cell_type": "code",
   "execution_count": null,
   "id": "3ba0bbc7",
   "metadata": {},
   "outputs": [],
   "source": [
    "accuracy_score(y_test,pred_log)*100"
   ]
  },
  {
   "cell_type": "code",
   "execution_count": null,
   "id": "20a4bc43",
   "metadata": {},
   "outputs": [],
   "source": []
  },
  {
   "cell_type": "markdown",
   "id": "7daf197a",
   "metadata": {},
   "source": [
    "# conclusion:\n",
    "#Over all above models the MultinomialNB model seems to perform well, with high accuracy of 88.62 and reasonably balanced precision and recall for both classes.\n",
    "#especially in correctly predicting instances of class 1 (Positive class). However, there is some room for improvement in correctly identifying instances of class 0 (Negative class), as indicated by slightly lower precision and recall values for class 0 compared to class 1.\n",
    "\n",
    "#With this, we have a good result where the model can classify whether the evaluation is positive or negative (considering 3 or below as negative)"
   ]
  },
  {
   "cell_type": "code",
   "execution_count": null,
   "id": "25ae2b4e",
   "metadata": {},
   "outputs": [],
   "source": []
  },
  {
   "cell_type": "markdown",
   "id": "536a0740",
   "metadata": {},
   "source": [
    "# Model Export"
   ]
  },
  {
   "cell_type": "code",
   "execution_count": null,
   "id": "ef35e937",
   "metadata": {},
   "outputs": [],
   "source": [
    "import pickle\n",
    "with open('trip_adviser_model.pickle','wb') as f:\n",
    "    pickle.dump(nb,f)"
   ]
  },
  {
   "cell_type": "code",
   "execution_count": null,
   "id": "21c7230f",
   "metadata": {},
   "outputs": [],
   "source": []
  },
  {
   "cell_type": "code",
   "execution_count": null,
   "id": "2f3d3da1",
   "metadata": {},
   "outputs": [],
   "source": []
  },
  {
   "cell_type": "code",
   "execution_count": null,
   "id": "ecf78d24",
   "metadata": {},
   "outputs": [],
   "source": []
  }
 ],
 "metadata": {
  "kernelspec": {
   "display_name": "Python 3 (ipykernel)",
   "language": "python",
   "name": "python3"
  },
  "language_info": {
   "codemirror_mode": {
    "name": "ipython",
    "version": 3
   },
   "file_extension": ".py",
   "mimetype": "text/x-python",
   "name": "python",
   "nbconvert_exporter": "python",
   "pygments_lexer": "ipython3",
   "version": "3.9.13"
  }
 },
 "nbformat": 4,
 "nbformat_minor": 5
}
